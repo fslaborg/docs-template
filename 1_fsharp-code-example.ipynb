
        {
            "cells": [
          {
           "cell_type": "markdown",
           "metadata": {},
           
           "source": ["// can\u0027t yet format YamlFrontmatter ([\"title: F# code formatting example\"; \"category: sample content\"; \"categoryindex: 1\"; \"index: 2\"], Some { StartLine = 2 StartColumn = 0 EndLine = 6 EndColumn = 8 }) to pynb markdown\n",
"\n",
"[![Binder](https://fslab.org/docs-template/img/badge-binder.svg)](https://mybinder.org/v2/gh/plotly/Plotly.NET/gh-pages?filepath=1_fsharp-code-example.ipynb)\u0026emsp;\n",
"[![Script](https://fslab.org/docs-template/img/badge-script.svg)](https://fslab.org/docs-template/1_fsharp-code-example.fsx)\u0026emsp;\n",
"[![Notebook](https://fslab.org/docs-template/img/badge-notebook.svg)](https://fslab.org/docs-template/1_fsharp-code-example.ipynb)\n",
"\n",
"[How to add these badges?](https://fslab.org/docs-template/4_download-badges.html)\n",
"\n",
"# F# code formatting example\n",
"\n",
"This page is rendered from a F# script as input, containing real F# code besides this markdown section.\n",
"\n",
"hover above some bindings to get tooltips like in a real editor environment.\n",
"\n",
"\n"]
          }
,
          {
           "cell_type": "code",
           "metadata": {},
            "execution_count": 1, "outputs": [
          {
           "data": {
            "text/plain": ["42"]
        },
           "execution_count": 1,
           "metadata": {},
           "output_type": "execute_result"
          }], 
           "source": ["///this is comment\n",
"let a = 42\n"]
          }
,
          {
           "cell_type": "code",
           "metadata": {},
            "execution_count": 3, "outputs": [
          {
           "data": {
            "text/plain": ["\"soos\""]
        },
           "execution_count": 3,
           "metadata": {},
           "output_type": "execute_result"
          }], 
           "source": ["// see some operators/keywords:\n",
"\n",
"if a \u003e 0 then printfn \"see, this is included: %i\" a\n",
"\n",
"// an interface:\n",
"type IA =\n",
"    abstract member B : string -\u003e string\n",
"\n",
"// an interface implementation:\n",
"\n",
"type C() =\n",
"    interface IA with\n",
"        member _.B(a) = id a\n",
"\n",
"let d = C() :\u003e IA\n",
"\n",
"let e = d.B(\"soos\")\n"]
          }
,
          {
           "cell_type": "code",
           "metadata": {},
            "execution_count": 5, "outputs": [], 
           "source": ["module ThisIsAModule =\n",
"\n",
"    type Union =\n",
"        | First\n",
"        | Second of IA\n",
"\n",
"    type Enum =\n",
"        | First = 1\n",
"        | Second = 2\n"]
          }],
            "metadata": {
            "kernelspec": {"display_name": ".NET (F#)", "language": "F#", "name": ".net-fsharp"},
            "langauge_info": {
        "file_extension": ".fs",
        "mimetype": "text/x-fsharp",
        "name": "C#",
        "pygments_lexer": "fsharp",
        "version": "4.5"
        }
        },
            "nbformat": 4,
            "nbformat_minor": 1
        }
        

