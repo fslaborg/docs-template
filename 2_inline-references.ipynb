
        {
            "cells": [
          {
           "cell_type": "markdown",
           "metadata": {},
           
           "source": ["// can\u0027t yet format YamlFrontmatter ([\"title: Inline package references and charting\"; \"category: sample content\"; \"categoryindex: 1\"; \"index: 3\"], Some { StartLine = 2 StartColumn = 0 EndLine = 6 EndColumn = 8 }) to pynb markdown\n",
"\n",
"# Inline package references and charting\n",
"\n",
"With fsdocs 8.0, the tool can roll forward to .net 5, meaning you can use inline package references in the docs scripts:\n",
"\n"]
          }
,
          {
           "cell_type": "code",
           "metadata": {},
            "execution_count": 1, "outputs": [], 
           "source": ["#r \"nuget: Plotly.NET, 2.0.0-preview.6\"\n",
"\n",
"open Plotly.NET\n",
"\n",
"let myChart = \n",
"    Chart.Line(\n",
"        [\n",
"            1.,1.\n",
"            5.,6.\n",
"            23.,9.\n",
"        ]\n",
"    )\n",
"    |\u003e Chart.withTitle \"Hello fsdocs!\"\n"]
          }
,
          {
           "cell_type": "markdown",
           "metadata": {},
           
           "source": ["You can now also include raw html in your docs scripts with the new `include-it-raw`.\n",
"To incude the chart html of a Plotly.NET chart and and render it on the docs page, use the `GenericChart.toChartHTML`\n",
"and include the raw output. \n",
"\n",
"the actual codeblock looks like this:\n",
"\n",
"\n",
"\u003cpre\u003e\n",
"(***hide***)\n",
"myChart |\u003e GenericChart.toChartHTML\n",
"(***include-it-raw***)\n",
"\u003c/pre\u003e\n",
"\u003c/pre\u003e\n",
"\n",
"Here is the rendered chart:\n",
"\n",
"\u003cdiv id=\"dcd517e9-6353-4c2b-a7a5-4eda068686c9\" style=\"width: 600px; height: 600px;\"\u003e\u003c!-- Plotly chart will be drawn inside this DIV --\u003e\u003c/div\u003e\n",
"\u003cscript type=\"text/javascript\"\u003e\n",
"\n",
"            var renderPlotly_dcd517e963534c2ba7a54eda068686c9 = function() {\n",
"            var fsharpPlotlyRequire = requirejs.config({context:\u0027fsharp-plotly\u0027,paths:{plotly:\u0027https://cdn.plot.ly/plotly-latest.min\u0027}}) || require;\n",
"            fsharpPlotlyRequire([\u0027plotly\u0027], function(Plotly) {\n",
"\n",
"            var data = [{\"type\":\"scatter\",\"x\":[1.0,5.0,23.0],\"y\":[1.0,6.0,9.0],\"mode\":\"lines\",\"line\":{},\"marker\":{}}];\n",
"            var layout = {\"title\":\"Hello fsdocs!\"};\n",
"            var config = {};\n",
"            Plotly.newPlot(\u0027dcd517e9-6353-4c2b-a7a5-4eda068686c9\u0027, data, layout, config);\n",
"});\n",
"            };\n",
"            if ((typeof(requirejs) !==  typeof(Function)) || (typeof(requirejs.config) !== typeof(Function))) {\n",
"                var script = document.createElement(\"script\");\n",
"                script.setAttribute(\"src\", \"https://cdnjs.cloudflare.com/ajax/libs/require.js/2.3.6/require.min.js\");\n",
"                script.onload = function(){\n",
"                    renderPlotly_dcd517e963534c2ba7a54eda068686c9();\n",
"                };\n",
"                document.getElementsByTagName(\"head\")[0].appendChild(script);\n",
"            }\n",
"            else {\n",
"                renderPlotly_dcd517e963534c2ba7a54eda068686c9();\n",
"            }\n",
"\u003c/script\u003e\n",
"\n"]
          }],
            "metadata": {
            "kernelspec": {"display_name": ".NET (F#)", "language": "F#", "name": ".net-fsharp"},
            "langauge_info": {
        "file_extension": ".fs",
        "mimetype": "text/x-fsharp",
        "name": "C#",
        "pygments_lexer": "fsharp",
        "version": "4.5"
        }
        },
            "nbformat": 4,
            "nbformat_minor": 1
        }
        

