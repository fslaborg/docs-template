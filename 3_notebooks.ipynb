
        {
            "cells": [
          {
           "cell_type": "markdown",
           "metadata": {},
           
           "source": ["// can\u0027t yet format YamlFrontmatter ([\"title: Including notebooks\"; \"category: sample content\"; \"categoryindex: 1\"; \"index: 4\"], Some { StartLine = 2 StartColumn = 0 EndLine = 6 EndColumn = 8 }) to pynb markdown\n",
"\n"]
          }
,
          {
           "cell_type": "code",
           "metadata": {},
            "execution_count": null, "outputs": [], 
           "source": ["#r \"nuget: Plotly.NET, 2.0.0-preview.6\"\n",
"#r \"nuget: Plotly.NET.Interactive, 2.0.0-preview.6\"\n"]
          }
,
          {
           "cell_type": "markdown",
           "metadata": {},
           
           "source": ["[![Binder](https://fslab.org/docs-template/img/badge-binder.svg)](https://mybinder.org/v2/gh/plotly/Plotly.NET/gh-pages?filepath=3_notebooks.ipynb)\u0026emsp;\n",
"[![Script](https://fslab.org/docs-template/img/badge-script.svg)](https://fslab.org/docs-template/3_notebooks.fsx)\u0026emsp;\n",
"[![Notebook](https://fslab.org/docs-template/img/badge-notebook.svg)](https://fslab.org/docs-template/3_notebooks.ipynb)\n",
"\n",
"[How to add these badges?](https://fslab.org/docs-template/4_download-badges.html)\n",
"\n",
"# Including notebooks \n",
"\n",
"To include dotnet interactive notebooks in the ipynb format, it is enough for the `_template.ipynb` file to simply exist.\n",
"\n",
"There are however some customization options with fsdocs that move your documentation to the next level:\n",
"\n",
"## Conditional package references\n",
"\n",
"use the IPYNB compiler directive in conjuntion with `condition:ipynb` to include blocks only in the rendered notebook file. \n",
"\n",
"This is especially usefull for referencing packages that otherwise be referenced locally during yopur buildchain:\n",
"\n",
"\n",
"\u003cpre\u003e\n",
"#r \"/path/to/your/binaries/during/local/build\"\n",
"\n",
"(***condition:ipynb***)\n",
"#if IPYNB\n",
"#r \"nuget: yourProjectOnNuget, 1.3.3.7\"\n",
"#endif // IPYNB\n",
"\u003c/pre\u003e\n",
"\n",
"## Conditional value inclusion\n",
"\n",
"Sometimes the content you want to include might differ aswell. An example is Plotly.NET charts. \n",
"While you want to dump the chart html directly into the html docs via (`include-it-raw`), \n",
"you want to end cells in notebooks with the chart value itself to include the chart in the output cell with Plotly.NET.Interactive. \n",
"\n",
"Here is an example for such an conditional block:\n",
"\n",
"\n",
"\u003cpre\u003e\n",
"open Plotly.NET\n",
"\n",
"let myChart = Chart.Point([1.,2.])\n",
"\n",
"(***condition:ipynb***)\n",
"#if IPYNB\n",
"myChart\n",
"#endif // IPYNB\n",
"\n",
"(***hide***)\n",
"myChart |\u003e GenericChart.toChartHTML\n",
"(***include-it-raw***)\n",
"\u003c/pre\u003e\n",
"\n"]
          }
,
          {
           "cell_type": "code",
           "metadata": {},
            "execution_count": 5, "outputs": [], 
           "source": ["open Plotly.NET\n",
"\n",
"let myChart = Chart.Point([1.,2.])\n"]
          }
,
          {
           "cell_type": "code",
           "metadata": {},
            "execution_count": null, "outputs": [
          {
           "data": {
            "text/html": ["\u003cdiv id=\"4c4f6edc-81dd-4c7a-80af-ea2c64a431cb\" style=\"width: 600px; height: 600px;\"\u003e\u003c!-- Plotly chart will be drawn inside this DIV --\u003e\u003c/div\u003e",
"\u003cscript type=\"text/javascript\"\u003e",
"",
"            var renderPlotly_4c4f6edc81dd4c7a80afea2c64a431cb = function() {",
"            var fsharpPlotlyRequire = requirejs.config({context:\u0027fsharp-plotly\u0027,paths:{plotly:\u0027https://cdn.plot.ly/plotly-latest.min\u0027}}) || require;",
"            fsharpPlotlyRequire([\u0027plotly\u0027], function(Plotly) {",
"",
"            var data = [{\"type\":\"scatter\",\"x\":[1.0],\"y\":[2.0],\"mode\":\"markers\",\"marker\":{}}];",
"            var layout = {};",
"            var config = {};",
"            Plotly.newPlot(\u00274c4f6edc-81dd-4c7a-80af-ea2c64a431cb\u0027, data, layout, config);",
"});",
"            };",
"            if ((typeof(requirejs) !==  typeof(Function)) || (typeof(requirejs.config) !== typeof(Function))) {",
"                var script = document.createElement(\"script\");",
"                script.setAttribute(\"src\", \"https://cdnjs.cloudflare.com/ajax/libs/require.js/2.3.6/require.min.js\");",
"                script.onload = function(){",
"                    renderPlotly_4c4f6edc81dd4c7a80afea2c64a431cb();",
"                };",
"                document.getElementsByTagName(\"head\")[0].appendChild(script);",
"            }",
"            else {",
"                renderPlotly_4c4f6edc81dd4c7a80afea2c64a431cb();",
"            }",
"\u003c/script\u003e",
""]
        },
           "execution_count": null,
           "metadata": {},
           "output_type": "execute_result"
          }], 
           "source": ["myChart\n"]
          }
,
          {
           "cell_type": "markdown",
           "metadata": {},
           
           "source": ["## Including binder links\n",
"\n",
"[Binder]() is an awesome project that launches an instance of your notebook given the correct `Dockerfile` and `nuget.config`, which will be added automatically by the `fsdocs` tool when you build the docs.\n",
"\n",
"you can include a binder link like this (supposed you use gh-pages to host your docs):\n",
"\n",
"```\n",
"[![Binder](https://mybinder.org/badge_logo.svg)](https://mybinder.org/v2/gh/\u003cYOUR-ORG\u003e/\u003cYOUR-PROJECT\u003e/gh-pages?filepath=\u003cYOUR-DOCS-FILENAME\u003e.ipynb)\n",
"```\n",
"\n",
"In fact, you can use this link here to check the conditionals of this very page in a notebook:\n",
"\n",
"[![Binder](https://mybinder.org/badge_logo.svg)](https://mybinder.org/v2/gh/fslaborg/docs-template/gh-pages?filepath=3_notebooks.ipynb.ipynb)\n",
"\n",
"\n"]
          }],
            "metadata": {
            "kernelspec": {"display_name": ".NET (F#)", "language": "F#", "name": ".net-fsharp"},
            "langauge_info": {
        "file_extension": ".fs",
        "mimetype": "text/x-fsharp",
        "name": "C#",
        "pygments_lexer": "fsharp",
        "version": "4.5"
        }
        },
            "nbformat": 4,
            "nbformat_minor": 1
        }
        

