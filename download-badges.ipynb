
{
 "cells": [
  {
   "cell_type": "markdown",
   "metadata": {},
   
   "source": [
    "# Adding download badges\n",
    "\n",
    "## Script download\n",
    "\n",
    "```no-highlight\n",
    "[![Script](https://fslab.org/docs-template/img/badge-script.svg)](https://fslab.org/docs-template/download-badges.fsx)`\n",
    "```\n",
    "\n",
    "becomes\n",
    "\n",
    "[![Script](https://fslab.org/docs-template/img/badge-script.svg)](https://fslab.org/docs-template/download-badges.fsx)\n",
    "\n",
    "(you might need to adjust the paths if there are any more levels between `{{root}}` and `img/badge-script.svg` or `{{fsdocs-source-basename}}`)\n",
    "\n",
    "## Notebook download\n",
    "\n",
    "```no-highlight\n",
    "[![Notebook](https://fslab.org/docs-template/img/badge-notebook.svg)](https://fslab.org/docs-template/download-badges.ipynb)\n",
    "```\n",
    "\n",
    "becomes\n",
    "\n",
    "[![Notebook](https://fslab.org/docs-template/img/badge-notebook.svg)](https://fslab.org/docs-template/download-badges.ipynb)\n",
    "\n",
    "(you might need to adjust the paths if there are any more levels between `{{root}}` and `img/badge-script.svg` or `{{fsdocs-source-basename}}`)\n",
    "\n",
    "## Multiple badges in one line\n",
    "\n",
    "To add multiple badges to appear on the same line like this:\n",
    "\n",
    "[![Script](https://fslab.org/docs-template/img/badge-script.svg)](https://fslab.org/docs-template/download-badges.fsx)\u0026emsp;\n",
    "[![Notebook](https://fslab.org/docs-template/img/badge-notebook.svg)](https://fslab.org/docs-template/download-badges.ipynb)\n",
    "\n",
    "add a `\u0026emsp;` after the first two badges in you markdown:\n",
    "\n",
    "```no-highlight\n",
    "[![Script](https://fslab.org/docs-template/img/badge-script.svg)](https://fslab.org/docs-template/download-badges.fsx)\u0026emsp;\n",
    "[![Notebook](https://fslab.org/docs-template/img/badge-notebook.svg)](https://fslab.org/docs-template/download-badges.ipynb)\n",
    "```\n",
    "\n"
   ]
  }
 ],
 "metadata": {
  "kernelspec": {
   "display_name": ".NET (F#)",
   "language": "F#",
   "name": ".net-fsharp"
  },
  "language_info": {
   "file_extension": ".fs",
   "mimetype": "text/x-fsharp",
   "name": "polyglot-notebook",
   "pygments_lexer": "fsharp"
  },
  "polyglot_notebook": {
   "kernelInfo": {
    "defaultKernelName": "fsharp",
    "items": [
     {
      "aliases": [],
      "languageName": "fsharp",
      "name": "fsharp"
     }
    ]
   }
  }
 },
 "nbformat": 4,
 "nbformat_minor": 2
}

